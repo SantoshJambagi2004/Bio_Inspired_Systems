{
  "nbformat": 4,
  "nbformat_minor": 0,
  "metadata": {
    "colab": {
      "provenance": [],
      "authorship_tag": "ABX9TyMDCNNiewTLqV3LFU5mprXk",
      "include_colab_link": true
    },
    "kernelspec": {
      "name": "python3",
      "display_name": "Python 3"
    },
    "language_info": {
      "name": "python"
    }
  },
  "cells": [
    {
      "cell_type": "markdown",
      "metadata": {
        "id": "view-in-github",
        "colab_type": "text"
      },
      "source": [
        "<a href=\"https://colab.research.google.com/github/SantoshJambagi2004/Bio_Inspired_Systems/blob/main/LAB1.ipynb\" target=\"_parent\"><img src=\"https://colab.research.google.com/assets/colab-badge.svg\" alt=\"Open In Colab\"/></a>"
      ]
    },
    {
      "cell_type": "code",
      "execution_count": 1,
      "metadata": {
        "colab": {
          "base_uri": "https://localhost:8080/"
        },
        "id": "43vusfEvVpC_",
        "outputId": "cfda2580-8abc-4056-ec08-a033672217c5"
      },
      "outputs": [
        {
          "output_type": "stream",
          "name": "stdout",
          "text": [
            "Best Solution Found: -9.193726095299992, Fitness: 84.52459951540003\n"
          ]
        }
      ],
      "source": [
        "import numpy as np\n",
        "import random\n",
        "\n",
        "# Objective function to maximize\n",
        "def objective_function(x):\n",
        "    return x ** 2\n",
        "\n",
        "# Initialize parameters\n",
        "population_size = 100\n",
        "num_generations = 50\n",
        "mutation_rate = 0.1\n",
        "crossover_rate = 0.7\n",
        "range_min = -10\n",
        "range_max = 10\n",
        "\n",
        "# Create initial population\n",
        "def initialize_population(size, min_val, max_val):\n",
        "    return np.random.uniform(min_val, max_val, size)\n",
        "\n",
        "# Evaluate fitness of the population\n",
        "def evaluate_fitness(population):\n",
        "    return np.array([objective_function(x) for x in population])\n",
        "\n",
        "# Selection using roulette-wheel method\n",
        "def selection(population, fitness):\n",
        "    total_fitness = np.sum(fitness)\n",
        "    probabilities = fitness / total_fitness\n",
        "    return population[np.random.choice(range(len(population)), size=2, p=probabilities)]\n",
        "\n",
        "# Crossover between two parents\n",
        "def crossover(parent1, parent2):\n",
        "    if random.random() < crossover_rate:\n",
        "        return (parent1 + parent2) / 2  # Simple averaging for crossover\n",
        "    return parent1  # No crossover\n",
        "\n",
        "# Mutation of an individual\n",
        "def mutate(individual):\n",
        "    if random.random() < mutation_rate:\n",
        "        return np.random.uniform(range_min, range_max)\n",
        "    return individual\n",
        "\n",
        "# Genetic Algorithm function\n",
        "def genetic_algorithm():\n",
        "    # Step 1: Initialize population\n",
        "    population = initialize_population(population_size, range_min, range_max)\n",
        "\n",
        "    for generation in range(num_generations):\n",
        "        # Step 2: Evaluate fitness\n",
        "        fitness = evaluate_fitness(population)\n",
        "\n",
        "        # Track the best solution\n",
        "        best_index = np.argmax(fitness)\n",
        "        best_solution = population[best_index]\n",
        "        best_fitness = fitness[best_index]\n",
        "\n",
        "        # print(f\"Generation {generation + 1}: Best Solution = {best_solution}, Fitness = {best_fitness}\")\n",
        "\n",
        "        # Step 3: Create new population\n",
        "        new_population = []\n",
        "        for _ in range(population_size):\n",
        "            # Select parents\n",
        "            parent1, parent2 = selection(population, fitness)\n",
        "            # Crossover to create offspring\n",
        "            offspring = crossover(parent1, parent2)\n",
        "            # Mutate offspring\n",
        "            offspring = mutate(offspring)\n",
        "            new_population.append(offspring)\n",
        "\n",
        "        # Step 6: Replace old population with new population\n",
        "        population = np.array(new_population)\n",
        "\n",
        "    return best_solution, best_fitness\n",
        "\n",
        "# Run the Genetic Algorithm\n",
        "best_solution, best_fitness = genetic_algorithm()\n",
        "print(f\"Best Solution Found: {best_solution}, Fitness: {best_fitness}\")"
      ]
    }
  ]
}