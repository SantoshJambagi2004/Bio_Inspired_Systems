{
  "nbformat": 4,
  "nbformat_minor": 0,
  "metadata": {
    "colab": {
      "provenance": [],
      "authorship_tag": "ABX9TyPL7Qe6BiyJdW6QPhNh9jaB",
      "include_colab_link": true
    },
    "kernelspec": {
      "name": "python3",
      "display_name": "Python 3"
    },
    "language_info": {
      "name": "python"
    }
  },
  "cells": [
    {
      "cell_type": "markdown",
      "metadata": {
        "id": "view-in-github",
        "colab_type": "text"
      },
      "source": [
        "<a href=\"https://colab.research.google.com/github/SantoshJambagi2004/Bio_Inspired_Systems/blob/main/Cuckoo_Search.ipynb\" target=\"_parent\"><img src=\"https://colab.research.google.com/assets/colab-badge.svg\" alt=\"Open In Colab\"/></a>"
      ]
    },
    {
      "cell_type": "code",
      "execution_count": 3,
      "metadata": {
        "colab": {
          "base_uri": "https://localhost:8080/"
        },
        "id": "Bi2pgX1weVb5",
        "outputId": "77c8ae90-7334-4124-adc6-8985e4be1d22"
      },
      "outputs": [
        {
          "output_type": "stream",
          "name": "stdout",
          "text": [
            "Best Nest: [6.9178768e-06]\n",
            "Best Fitness: 4.7857019418525946e-11\n"
          ]
        }
      ],
      "source": [
        "import numpy as np\n",
        "\n",
        "# Step 1: Initialize Nests (Population) with random positions\n",
        "def initialize_nests(N, dim, bounds):\n",
        "    \"\"\"Initialize nests with random positions within given bounds.\"\"\"\n",
        "    return np.random.uniform(bounds[0], bounds[1], (N, dim))\n",
        "\n",
        "# Step 2: Fitness Evaluation Function\n",
        "def evaluate_fitness(nests, objective_function):\n",
        "    \"\"\"Evaluate the fitness of each nest based on the objective function.\"\"\"\n",
        "    return np.array([objective_function(nest) for nest in nests])\n",
        "\n",
        "# Step 3: Lévy Flight to generate new solution\n",
        "def levy_flight(nests, alpha=1.0):\n",
        "    \"\"\"Generate new solutions using Lévy flights.\"\"\"\n",
        "    N, dim = nests.shape\n",
        "    new_nests = np.copy(nests)\n",
        "\n",
        "    for i in range(N):\n",
        "        # Lévy flight step: Levy distribution\n",
        "        u = np.random.normal(0, 1, dim)\n",
        "        v = np.random.normal(0, 1, dim)\n",
        "        step = u / (np.abs(v) ** (1.0 / alpha))  # Lévy distribution formula\n",
        "\n",
        "        # Update nest position using Lévy flight\n",
        "        new_nests[i] = nests[i] + step * 0.01  # Scaling factor (0.01 for step size)\n",
        "    return new_nests\n",
        "\n",
        "# Step 4: Abandon worst nests\n",
        "def abandon_worst_nests(nests, fitness, new_nests, new_fitness, pa=0.25):\n",
        "    \"\"\"Replace worst nests with new random positions.\"\"\"\n",
        "    N = len(nests)\n",
        "    combined_nests = np.vstack((nests, new_nests))\n",
        "    combined_fitness = np.concatenate((fitness, new_fitness))\n",
        "\n",
        "    # Sort the combined nests based on fitness\n",
        "    sorted_indices = np.argsort(combined_fitness)\n",
        "    sorted_nests = combined_nests[sorted_indices]\n",
        "    sorted_fitness = combined_fitness[sorted_indices]\n",
        "\n",
        "    # Retain the best N nests\n",
        "    return sorted_nests[:N], sorted_fitness[:N]\n",
        "\n",
        "# Step 5: Get the best nest (solution)\n",
        "def get_best_nest(nests, fitness):\n",
        "    \"\"\"Return the best nest and its fitness.\"\"\"\n",
        "    best_idx = np.argmin(fitness)  # Assume minimization problem\n",
        "    return nests[best_idx], fitness[best_idx]\n",
        "\n",
        "# Example objective function (minimization problem)\n",
        "def objective_function(x):\n",
        "    \"\"\"Example: Sphere function.\"\"\"\n",
        "    return np.sum(x ** 2)\n",
        "\n",
        "# Cuckoo Search Algorithm\n",
        "def cuckoo_search(N, dim, bounds, max_iter=1000, pa=0.25, alpha=1.0):\n",
        "    # Initialize nests\n",
        "    nests = initialize_nests(N, dim, bounds)\n",
        "\n",
        "    # Evaluate fitness of initial nests\n",
        "    fitness = evaluate_fitness(nests, objective_function)\n",
        "\n",
        "    # Track the best nest\n",
        "    best_nest, best_fitness = get_best_nest(nests, fitness)\n",
        "\n",
        "    # Iterate the algorithm for a fixed number of iterations\n",
        "    for _ in range(max_iter):\n",
        "        # Generate new solutions via Lévy flights\n",
        "        new_nests = levy_flight(nests, alpha)\n",
        "\n",
        "        # Evaluate the fitness of new solutions\n",
        "        new_fitness = evaluate_fitness(new_nests, objective_function)\n",
        "\n",
        "        # Abandon worst nests and update the population\n",
        "        nests, fitness = abandon_worst_nests(nests, fitness, new_nests, new_fitness, pa)\n",
        "\n",
        "        # Track the best solution found\n",
        "        current_best_nest, current_best_fitness = get_best_nest(nests, fitness)\n",
        "\n",
        "        # If the current solution is better, update the best solution\n",
        "        if current_best_fitness < best_fitness:\n",
        "            best_nest = current_best_nest\n",
        "            best_fitness = current_best_fitness\n",
        "\n",
        "    # Return the best solution\n",
        "    return best_nest, best_fitness\n",
        "\n",
        "# Example usage\n",
        "N = 20         # Number of nests\n",
        "dim = 2        # Problem dimension\n",
        "bounds = (-5, 5)  # Search space bounds\n",
        "max_iter = 1000\n",
        "\n",
        "best_nest, best_fitness = cuckoo_search(N, dim, bounds, max_iter)\n",
        "print(\"Best Nest:\", best_nest)\n",
        "print(\"Best Fitness:\", best_fitness)"
      ]
    }
  ]
}