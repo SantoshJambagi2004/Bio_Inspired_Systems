{
  "nbformat": 4,
  "nbformat_minor": 0,
  "metadata": {
    "colab": {
      "provenance": [],
      "authorship_tag": "ABX9TyN7F1LfezmUnG/RuDuvvN/Z",
      "include_colab_link": true
    },
    "kernelspec": {
      "name": "python3",
      "display_name": "Python 3"
    },
    "language_info": {
      "name": "python"
    }
  },
  "cells": [
    {
      "cell_type": "markdown",
      "metadata": {
        "id": "view-in-github",
        "colab_type": "text"
      },
      "source": [
        "<a href=\"https://colab.research.google.com/github/SantoshJambagi2004/Bio_Inspired_Systems/blob/main/LAB2.ipynb\" target=\"_parent\"><img src=\"https://colab.research.google.com/assets/colab-badge.svg\" alt=\"Open In Colab\"/></a>"
      ]
    },
    {
      "cell_type": "code",
      "source": [
        "import numpy as np\n",
        "import random\n",
        "\n",
        "# Define the optimization problem (Rastrigin Function)\n",
        "def rastrigin(x):\n",
        "    A = 10\n",
        "    return A * len(x) + sum([(xi**2 - A * np.cos(2 * np.pi * xi)) for xi in x])\n",
        "\n",
        "# Particle Swarm Optimization (PSO) implementation\n",
        "class Particle:\n",
        "    def __init__(self, dimension, lower_bound, upper_bound):\n",
        "        # Initialize the particle position and velocity randomly\n",
        "        self.position = np.random.uniform(lower_bound, upper_bound, dimension)\n",
        "        self.velocity = np.random.uniform(-1, 1, dimension)\n",
        "        self.best_position = np.copy(self.position)\n",
        "        self.best_value = rastrigin(self.position)\n",
        "\n",
        "    def update_velocity(self, global_best_position, w, c1, c2):\n",
        "        # Update the velocity of the particle\n",
        "        r1 = np.random.rand(len(self.position))\n",
        "        r2 = np.random.rand(len(self.position))\n",
        "\n",
        "        # Inertia term\n",
        "        inertia = w * self.velocity\n",
        "\n",
        "        # Cognitive term (individual best)\n",
        "        cognitive = c1 * r1 * (self.best_position - self.position)\n",
        "\n",
        "        # Social term (global best)\n",
        "        social = c2 * r2 * (global_best_position - self.position)\n",
        "\n",
        "        # Update velocity\n",
        "        self.velocity = inertia + cognitive + social\n",
        "\n",
        "    def update_position(self, lower_bound, upper_bound):\n",
        "        # Update the position of the particle\n",
        "        self.position = self.position + self.velocity\n",
        "\n",
        "        # Ensure the particle stays within the bounds\n",
        "        self.position = np.clip(self.position, lower_bound, upper_bound)\n",
        "\n",
        "    def evaluate(self):\n",
        "        # Evaluate the fitness of the particle\n",
        "        fitness = rastrigin(self.position)\n",
        "\n",
        "        # Update the particle's best position if necessary\n",
        "        if fitness < self.best_value:\n",
        "            self.best_value = fitness\n",
        "            self.best_position = np.copy(self.position)\n",
        "\n",
        "def particle_swarm_optimization(dim, lower_bound, upper_bound, num_particles=30, max_iter=100, w=0.5, c1=1.5, c2=1.5):\n",
        "    # Initialize particles\n",
        "    particles = [Particle(dim, lower_bound, upper_bound) for _ in range(num_particles)]\n",
        "\n",
        "    # Initialize the global best position and value\n",
        "    global_best_position = particles[0].best_position\n",
        "    global_best_value = particles[0].best_value\n",
        "\n",
        "    for i in range(max_iter):\n",
        "        # Update each particle\n",
        "        for particle in particles:\n",
        "            particle.update_velocity(global_best_position, w, c1, c2)\n",
        "            particle.update_position(lower_bound, upper_bound)\n",
        "            particle.evaluate()\n",
        "\n",
        "            # Update global best position if needed\n",
        "            if particle.best_value < global_best_value:\n",
        "                global_best_value = particle.best_value\n",
        "                global_best_position = np.copy(particle.best_position)\n",
        "\n",
        "        # Optionally print the progress\n",
        "        if (i+1 ) % 10 == 0:\n",
        "            print(f\"Iteration {i+1 }/{max_iter} - Best Fitness: {global_best_value}\")\n",
        "\n",
        "    return global_best_position, global_best_value\n",
        "\n",
        "# Set the parameters for the PSO algorithm\n",
        "dim = 2                # Number of dimensions for the function\n",
        "lower_bound = -5.12    # Lower bound of the search space\n",
        "upper_bound = 5.12     # Upper bound of the search space\n",
        "num_particles = 30     # Number of particles in the swarm\n",
        "max_iter = 100         # Number of iterations\n",
        "\n",
        "# Run the PSO\n",
        "best_position, best_value = particle_swarm_optimization(dim, lower_bound, upper_bound, num_particles, max_iter)\n",
        "\n",
        "# Output the best solution found\n",
        "print(\"\\nBest Solution Found:\")\n",
        "print(\"Position:\", best_position)\n",
        "print(\"Fitness:\", best_value)"
      ],
      "metadata": {
        "colab": {
          "base_uri": "https://localhost:8080/"
        },
        "id": "Xdw4qAGtWo1W",
        "outputId": "18c8fa18-51ea-4889-a671-b88b9b038c73"
      },
      "execution_count": 4,
      "outputs": [
        {
          "output_type": "stream",
          "name": "stdout",
          "text": [
            "Iteration 10/100 - Best Fitness: 0.19134509371065533\n",
            "Iteration 20/100 - Best Fitness: 0.0006055928146722067\n",
            "Iteration 30/100 - Best Fitness: 2.9377107679806613e-07\n",
            "Iteration 40/100 - Best Fitness: 7.576944938136876e-08\n",
            "Iteration 50/100 - Best Fitness: 2.2570390001419582e-10\n",
            "Iteration 60/100 - Best Fitness: 4.472866521609831e-12\n",
            "Iteration 70/100 - Best Fitness: 1.2079226507921703e-13\n",
            "Iteration 80/100 - Best Fitness: 0.0\n",
            "Iteration 90/100 - Best Fitness: 0.0\n",
            "Iteration 100/100 - Best Fitness: 0.0\n",
            "\n",
            "Best Solution Found:\n",
            "Position: [-6.63176864e-10 -2.16171559e-09]\n",
            "Fitness: 0.0\n"
          ]
        }
      ]
    }
  ]
}